{
  "cells": [
    {
      "cell_type": "markdown",
      "metadata": {
        "id": "view-in-github",
        "colab_type": "text"
      },
      "source": [
        "<a href=\"https://colab.research.google.com/github/SaieshNeeli/genai/blob/main/Day1_numpy_tutorial.ipynb\" target=\"_parent\"><img src=\"https://colab.research.google.com/assets/colab-badge.svg\" alt=\"Open In Colab\"/></a>"
      ]
    },
    {
      "cell_type": "markdown",
      "metadata": {
        "id": "u5O3oSo5hHcg"
      },
      "source": [
        "# Numpy Tutorial\n",
        "[NumPy](https://numpy.org/) is a Python library, which adds support for large, multi-dimensional arrays and matrices, along with a large collection of optimized, high-level mathematical functions to operate on these arrays."
      ]
    },
    {
      "cell_type": "code",
      "execution_count": null,
      "metadata": {
        "id": "ma9gJaHdumDW"
      },
      "outputs": [],
      "source": [
        "import numpy as np\n",
        "import pprint"
      ]
    },
    {
      "cell_type": "markdown",
      "metadata": {
        "id": "gpq64TXphHch"
      },
      "source": [
        "## Efficient NumPy Code"
      ]
    },
    {
      "cell_type": "markdown",
      "metadata": {
        "id": "Y29xgBAvhHch"
      },
      "source": [
        "When working with numpy arrays, avoid explicit for-loops over indices/axes at all costs. For-loops will dramatically slow down your code (~10-100x)."
      ]
    },
    {
      "cell_type": "code",
      "source": [
        "x = np.random.rand(1000, 1000)\n",
        "print(x)\n",
        "print(x.shape)"
      ],
      "metadata": {
        "colab": {
          "base_uri": "https://localhost:8080/"
        },
        "id": "McPNTFYeRHsw",
        "outputId": "611600de-f95d-45df-868b-d69e73d04d6f"
      },
      "execution_count": null,
      "outputs": [
        {
          "output_type": "stream",
          "name": "stdout",
          "text": [
            "[[0.2456875  0.1999786  0.64747432 ... 0.29006748 0.3774657  0.85713239]\n",
            " [0.96787811 0.4082571  0.58121968 ... 0.02325002 0.24716104 0.46117591]\n",
            " [0.4775976  0.88743594 0.37803976 ... 0.51721694 0.58756425 0.61240829]\n",
            " ...\n",
            " [0.75755607 0.5165391  0.21173416 ... 0.64232976 0.47783265 0.0112866 ]\n",
            " [0.86705826 0.03770885 0.28028072 ... 0.72098193 0.14572308 0.84383069]\n",
            " [0.28313444 0.08331775 0.56625682 ... 0.98970031 0.39311062 0.00314721]]\n",
            "(1000, 1000)\n"
          ]
        }
      ]
    },
    {
      "cell_type": "code",
      "execution_count": null,
      "metadata": {
        "colab": {
          "base_uri": "https://localhost:8080/"
        },
        "id": "zH2PVX5ZhHch",
        "outputId": "b1bb6479-a1dc-4307-ff3c-f77e83871971"
      },
      "outputs": [
        {
          "output_type": "stream",
          "name": "stdout",
          "text": [
            "304 ms ± 7.56 ms per loop (mean ± std. dev. of 7 runs, 1 loop each)\n"
          ]
        }
      ],
      "source": [
        "%%timeit\n",
        "x = np.random.rand(1000, 1000)\n",
        "for i in range(100, 1000):\n",
        "    for j in range(x.shape[1]):\n",
        "        x[i, j] += 5"
      ]
    },
    {
      "cell_type": "code",
      "execution_count": null,
      "metadata": {
        "colab": {
          "base_uri": "https://localhost:8080/"
        },
        "id": "zcKbbmV1hHch",
        "outputId": "fba6d686-976f-4f7a-a839-9142fc6333a9"
      },
      "outputs": [
        {
          "output_type": "stream",
          "name": "stdout",
          "text": [
            "13.5 ms ± 2.3 ms per loop (mean ± std. dev. of 7 runs, 100 loops each)\n"
          ]
        }
      ],
      "source": [
        "%%timeit\n",
        "x = np.random.rand(1000, 1000)\n",
        "x[np.arange(100,1000), :] += 5"
      ]
    },
    {
      "cell_type": "markdown",
      "metadata": {
        "id": "5vWvQD3wwMTK"
      },
      "source": [
        "## NumPy Arrays\n"
      ]
    },
    {
      "cell_type": "code",
      "execution_count": null,
      "metadata": {
        "id": "5VGpPTvYwRP4"
      },
      "outputs": [],
      "source": [
        "# Create numpy arrays from lists\n",
        "a = [1, 2, 3, 4, 5]  # normal python list\n",
        "numpy_a = np.array([1, 2, 3, 4, 5], dtype='int16') # numpy 1d array"
      ]
    },
    {
      "cell_type": "code",
      "execution_count": null,
      "metadata": {
        "colab": {
          "base_uri": "https://localhost:8080/"
        },
        "id": "aC2RX9ldCOui",
        "outputId": "3e1814b3-d983-4fd5-d23b-36a6f87536d3"
      },
      "outputs": [
        {
          "output_type": "stream",
          "name": "stdout",
          "text": [
            "[1 2 3 4 5]\n",
            "(5,)\n"
          ]
        }
      ],
      "source": [
        "# Let's take a look at their shapes.\n",
        "# When working with numpy arrays, .shape will be a very useful debugging tool\n",
        "print(numpy_a)\n",
        "print(numpy_a.shape)"
      ]
    },
    {
      "cell_type": "code",
      "execution_count": null,
      "metadata": {
        "id": "5mlEUTR0gRQ2"
      },
      "outputs": [],
      "source": [
        "# numpy 2d array\n",
        "b = np.array([\n",
        "    [9.0,8.0,7.0],\n",
        "    [6.0,5.0,4.0]\n",
        "])\n",
        "# a = np.copy(b[:,:])"
      ]
    },
    {
      "cell_type": "code",
      "source": [
        "print(b.shape)"
      ],
      "metadata": {
        "colab": {
          "base_uri": "https://localhost:8080/"
        },
        "id": "J3qUDR6TmS9Q",
        "outputId": "395268ca-f44f-4a8f-c085-9fc9b93516e0"
      },
      "execution_count": null,
      "outputs": [
        {
          "output_type": "stream",
          "name": "stdout",
          "text": [
            "(2, 3)\n"
          ]
        }
      ]
    },
    {
      "cell_type": "code",
      "execution_count": null,
      "metadata": {
        "colab": {
          "base_uri": "https://localhost:8080/"
        },
        "id": "hqsxuHUUDwN9",
        "outputId": "1729cf1c-8912-46fa-a88b-e580614e1513"
      },
      "outputs": [
        {
          "output_type": "stream",
          "name": "stdout",
          "text": [
            "2\n",
            "float64\n",
            "48\n"
          ]
        }
      ],
      "source": [
        "# Get Dimensions\n",
        "print(b.ndim)\n",
        "\n",
        "# Get Type\n",
        "print(b.dtype)\n",
        "\n",
        "# Get Size\n",
        "print(b.nbytes)"
      ]
    },
    {
      "cell_type": "code",
      "source": [
        "arr = np.array([1, 2, 3], ndmin=2)\n",
        "print(arr.shape)\n",
        "print(arr)"
      ],
      "metadata": {
        "colab": {
          "base_uri": "https://localhost:8080/"
        },
        "id": "t4pXJnkCmigc",
        "outputId": "ffc923e1-34c6-4043-cf84-05696e7d4b9e"
      },
      "execution_count": null,
      "outputs": [
        {
          "output_type": "stream",
          "name": "stdout",
          "text": [
            "(1, 3)\n",
            "[[1 2 3]]\n"
          ]
        }
      ]
    },
    {
      "cell_type": "markdown",
      "metadata": {
        "id": "1K0eLRfZgqwU"
      },
      "source": [
        "# More types of NumPy initializations"
      ]
    },
    {
      "cell_type": "code",
      "execution_count": null,
      "metadata": {
        "colab": {
          "base_uri": "https://localhost:8080/"
        },
        "id": "Y3pAqy1eguxf",
        "outputId": "a600d438-b1c2-43de-ea25-082c4280d3e1"
      },
      "outputs": [
        {
          "output_type": "stream",
          "name": "stdout",
          "text": [
            "[[[0. 0. 0.]\n",
            "  [0. 0. 0.]\n",
            "  [0. 0. 0.]\n",
            "  [0. 0. 0.]\n",
            "  [0. 0. 0.]\n",
            "  [0. 0. 0.]]\n",
            "\n",
            " [[0. 0. 0.]\n",
            "  [0. 0. 0.]\n",
            "  [0. 0. 0.]\n",
            "  [0. 0. 0.]\n",
            "  [0. 0. 0.]\n",
            "  [0. 0. 0.]]\n",
            "\n",
            " [[0. 0. 0.]\n",
            "  [0. 0. 0.]\n",
            "  [0. 0. 0.]\n",
            "  [0. 0. 0.]\n",
            "  [0. 0. 0.]\n",
            "  [0. 0. 0.]]\n",
            "\n",
            " [[0. 0. 0.]\n",
            "  [0. 0. 0.]\n",
            "  [0. 0. 0.]\n",
            "  [0. 0. 0.]\n",
            "  [0. 0. 0.]\n",
            "  [0. 0. 0.]]\n",
            "\n",
            " [[0. 0. 0.]\n",
            "  [0. 0. 0.]\n",
            "  [0. 0. 0.]\n",
            "  [0. 0. 0.]\n",
            "  [0. 0. 0.]\n",
            "  [0. 0. 0.]]]\n"
          ]
        }
      ],
      "source": [
        "# All 0s matrix\n",
        "print(np.zeros((5, 6, 3)))"
      ]
    },
    {
      "cell_type": "code",
      "execution_count": null,
      "metadata": {
        "colab": {
          "base_uri": "https://localhost:8080/"
        },
        "id": "VCBNOVprgw2w",
        "outputId": "8bb6261f-2563-4fe0-e8ee-c95b20caa339"
      },
      "outputs": [
        {
          "output_type": "execute_result",
          "data": {
            "text/plain": [
              "array([[1., 1., 1.],\n",
              "       [1., 1., 1.],\n",
              "       [1., 1., 1.]])"
            ]
          },
          "metadata": {},
          "execution_count": 12
        }
      ],
      "source": [
        "# All 1s matrix\n",
        "np.ones((3, 3))"
      ]
    },
    {
      "cell_type": "code",
      "execution_count": null,
      "metadata": {
        "colab": {
          "base_uri": "https://localhost:8080/"
        },
        "id": "RmqlrbS5gzpo",
        "outputId": "6d91f3e2-16cd-4415-b563-208a71b22f1c"
      },
      "outputs": [
        {
          "output_type": "execute_result",
          "data": {
            "text/plain": [
              "array([[4, 4],\n",
              "       [4, 4],\n",
              "       [4, 4],\n",
              "       [4, 4],\n",
              "       [4, 4]])"
            ]
          },
          "metadata": {},
          "execution_count": 13
        }
      ],
      "source": [
        "# Matrix filled with any number\n",
        "np.full((5,2), 4)"
      ]
    },
    {
      "cell_type": "code",
      "execution_count": null,
      "metadata": {
        "colab": {
          "base_uri": "https://localhost:8080/"
        },
        "id": "ZRdxFeDNg6_z",
        "outputId": "d9e98e88-1f0f-4dff-dc9a-b3b411c9d3c9"
      },
      "outputs": [
        {
          "output_type": "stream",
          "name": "stdout",
          "text": [
            "[[1. 0. 0. 0. 0.]\n",
            " [0. 1. 0. 0. 0.]\n",
            " [0. 0. 1. 0. 0.]\n",
            " [0. 0. 0. 1. 0.]\n",
            " [0. 0. 0. 0. 1.]]\n"
          ]
        }
      ],
      "source": [
        "# identity matrix I\n",
        "# A X I = A, I X A = A\n",
        "print(np.eye(5))"
      ]
    },
    {
      "cell_type": "code",
      "execution_count": null,
      "metadata": {
        "colab": {
          "base_uri": "https://localhost:8080/"
        },
        "id": "urhyX4m1g93Q",
        "outputId": "cf1c94c9-4c21-4bc1-c540-74d4d7ed3a8d"
      },
      "outputs": [
        {
          "output_type": "execute_result",
          "data": {
            "text/plain": [
              "array([[6.74557245, 8.6344172 ],\n",
              "       [3.98169006, 0.12358447],\n",
              "       [6.04129613, 8.27250044],\n",
              "       [0.93756428, 6.51998731]])"
            ]
          },
          "metadata": {},
          "execution_count": 15
        }
      ],
      "source": [
        "# Random decimal numbers between 0-10\n",
        "np.random.rand(4,2) * 10"
      ]
    },
    {
      "cell_type": "markdown",
      "metadata": {
        "id": "DjfZUTemhHci"
      },
      "source": [
        "## NumPy Gotchas!"
      ]
    },
    {
      "cell_type": "code",
      "execution_count": null,
      "metadata": {
        "colab": {
          "base_uri": "https://localhost:8080/"
        },
        "id": "zNIRL8gpyxvV",
        "outputId": "b974d6ef-3ba2-4c31-e4e7-ef4b26631f2e"
      },
      "outputs": [
        {
          "output_type": "stream",
          "name": "stdout",
          "text": [
            "[1 2 3]\n",
            "[1 2 3]\n"
          ]
        }
      ],
      "source": [
        "# python gotcha\n",
        "a = np.array([1,2,3])\n",
        "b = a\n",
        "\n",
        "print(a)\n",
        "print(b)"
      ]
    },
    {
      "cell_type": "code",
      "execution_count": null,
      "metadata": {
        "colab": {
          "base_uri": "https://localhost:8080/"
        },
        "id": "OH3lNYpPFCBy",
        "outputId": "1375032d-5985-4acd-d802-d250b3c67bb5"
      },
      "outputs": [
        {
          "output_type": "stream",
          "name": "stdout",
          "text": [
            "[  1 100   3]\n"
          ]
        }
      ],
      "source": [
        "b[1] = 100\n",
        "print(b)"
      ]
    },
    {
      "cell_type": "code",
      "execution_count": null,
      "metadata": {
        "colab": {
          "base_uri": "https://localhost:8080/"
        },
        "id": "uv7OCmy6FK-C",
        "outputId": "5faab2d7-4ad7-4248-8b10-b7272f9633ac"
      },
      "outputs": [
        {
          "output_type": "stream",
          "name": "stdout",
          "text": [
            "[  1 100   3]\n"
          ]
        }
      ],
      "source": [
        "print(a)"
      ]
    },
    {
      "cell_type": "code",
      "execution_count": null,
      "metadata": {
        "colab": {
          "base_uri": "https://localhost:8080/"
        },
        "id": "jTD8p0ZrhAdK",
        "outputId": "941c6be0-ae60-4f8a-9d67-36f773649cea"
      },
      "outputs": [
        {
          "output_type": "stream",
          "name": "stdout",
          "text": [
            "[1 2 3]\n",
            "[  1 100   3]\n"
          ]
        }
      ],
      "source": [
        "# Copying in numpy\n",
        "a = np.array([1,2,3])\n",
        "b = a.copy() # REMEMBER TO DO THIS. Otherwise, when b is mutated, a also changes\n",
        "# b = np.copy(a)\n",
        "# b = a[:]\n",
        "\n",
        "b[1] = 100\n",
        "print(a)\n",
        "print(b)"
      ]
    },
    {
      "cell_type": "markdown",
      "metadata": {
        "id": "datKJcj9yA7Z"
      },
      "source": [
        "## NumPy Indexing, Slicing, and Accessing Elements"
      ]
    },
    {
      "cell_type": "code",
      "execution_count": null,
      "metadata": {
        "colab": {
          "base_uri": "https://localhost:8080/"
        },
        "id": "P15UQMeDyIat",
        "outputId": "1fd735e3-d1a5-4f63-be14-00042961150d"
      },
      "outputs": [
        {
          "output_type": "execute_result",
          "data": {
            "text/plain": [
              "100"
            ]
          },
          "metadata": {},
          "execution_count": 20
        }
      ],
      "source": [
        "python_list = [\n",
        "    ['apple', 'orange', 'banana'],\n",
        "    ['panda', 2, 100]]\n",
        "python_list[1][2]"
      ]
    },
    {
      "cell_type": "code",
      "execution_count": null,
      "metadata": {
        "colab": {
          "base_uri": "https://localhost:8080/"
        },
        "id": "Ze-TaMKuyrDr",
        "outputId": "67911a09-d958-4f4f-9917-e734c712bb0d"
      },
      "outputs": [
        {
          "output_type": "execute_result",
          "data": {
            "text/plain": [
              "(2, 7)"
            ]
          },
          "metadata": {},
          "execution_count": 26
        }
      ],
      "source": [
        "a = np.array([\n",
        "    [1,2,3,4,5,6,7],\n",
        "    [8,9,10,11,12,13,14]\n",
        "])\n",
        "# [[ 1  2  1  4  5  6  7]\n",
        "#  [ 8  9  2 11 12 13 14]]\n",
        "a.shape"
      ]
    },
    {
      "cell_type": "code",
      "execution_count": null,
      "metadata": {
        "colab": {
          "base_uri": "https://localhost:8080/"
        },
        "id": "3RTCaRF-FvIl",
        "outputId": "4990515b-b679-4f06-c28e-d8dac394f7c3"
      },
      "outputs": [
        {
          "output_type": "execute_result",
          "data": {
            "text/plain": [
              "11"
            ]
          },
          "metadata": {},
          "execution_count": 27
        }
      ],
      "source": [
        "a[1, 3]"
      ]
    },
    {
      "cell_type": "code",
      "source": [
        "a[:1, :-2]"
      ],
      "metadata": {
        "colab": {
          "base_uri": "https://localhost:8080/"
        },
        "id": "99Zt-szkp2EU",
        "outputId": "2edf58f4-c7e2-403a-b768-6b2339077eda"
      },
      "execution_count": null,
      "outputs": [
        {
          "output_type": "execute_result",
          "data": {
            "text/plain": [
              "array([[1, 2, 3, 4, 5]])"
            ]
          },
          "metadata": {},
          "execution_count": 28
        }
      ]
    },
    {
      "cell_type": "code",
      "execution_count": null,
      "metadata": {
        "colab": {
          "base_uri": "https://localhost:8080/"
        },
        "id": "j1geBPD4y50D",
        "outputId": "5ec7c8f2-2dd8-4451-c952-8ce47d831ae3"
      },
      "outputs": [
        {
          "output_type": "execute_result",
          "data": {
            "text/plain": [
              "array([[ 1,  2,  3,  4],\n",
              "       [ 8,  9, 10, 11]])"
            ]
          },
          "metadata": {},
          "execution_count": 29
        }
      ],
      "source": [
        "# Get a specific element [row, col]\n",
        "# With slicing - [row_start:row_end, col_start:col_end]\n",
        "# Can leave out row_start / col_start if 0\n",
        "a[0:2, :-3]\n",
        "\n",
        "# note: this is first two rows, in this case all rows"
      ]
    },
    {
      "cell_type": "code",
      "execution_count": null,
      "metadata": {
        "colab": {
          "base_uri": "https://localhost:8080/"
        },
        "id": "PZsnBc1th1mR",
        "outputId": "26771488-e9a7-4052-902d-fb9c3e71fafb"
      },
      "outputs": [
        {
          "output_type": "stream",
          "name": "stdout",
          "text": [
            "[1 2 3 4 5 6 7]\n",
            "[ 5 12]\n"
          ]
        }
      ],
      "source": [
        "# Get a specific row\n",
        "row = a[0, :]\n",
        "print(row)\n",
        "\n",
        "# Get a specific column\n",
        "col = a[:, 4]\n",
        "print(col)"
      ]
    },
    {
      "cell_type": "code",
      "execution_count": null,
      "metadata": {
        "colab": {
          "base_uri": "https://localhost:8080/"
        },
        "id": "FEJI-qERGyRu",
        "outputId": "7bf83ad6-1a5d-470e-8632-5e7e5de5af6f"
      },
      "outputs": [
        {
          "output_type": "execute_result",
          "data": {
            "text/plain": [
              "array([4, 5])"
            ]
          },
          "metadata": {},
          "execution_count": 54
        }
      ],
      "source": [
        "row[3:5]"
      ]
    },
    {
      "cell_type": "code",
      "execution_count": null,
      "metadata": {
        "colab": {
          "base_uri": "https://localhost:8080/"
        },
        "id": "AZ3Shq46h5W6",
        "outputId": "c3c6f576-2424-41fb-9860-b1ca48efda9e"
      },
      "outputs": [
        {
          "output_type": "stream",
          "name": "stdout",
          "text": [
            "[[ 1  2  1  4  5  6  7]\n",
            " [ 8  9  2 11 12 13 14]]\n"
          ]
        }
      ],
      "source": [
        "# Modify array\n",
        "a[:,2] = [1,2]\n",
        "print(a)"
      ]
    },
    {
      "cell_type": "code",
      "execution_count": null,
      "metadata": {
        "colab": {
          "base_uri": "https://localhost:8080/"
        },
        "id": "byB71kAjiCnW",
        "outputId": "c119f4ce-97b0-44ee-ba13-a299a3d57599"
      },
      "outputs": [
        {
          "output_type": "stream",
          "name": "stdout",
          "text": [
            "[[[1 2]\n",
            "  [3 4]]\n",
            "\n",
            " [[5 6]\n",
            "  [7 8]]]\n",
            "7\n"
          ]
        }
      ],
      "source": [
        "# Example of indexing into 3D array\n",
        "\n",
        "c = np.array([\n",
        "    [[1,2],[3,4]],\n",
        "    [[5,6],[7,8]]\n",
        "  ])\n",
        "print(c)\n",
        "\n",
        "# access 1st row, 1st col, 0th value\n",
        "print(c[1, 1, 0])"
      ]
    },
    {
      "cell_type": "code",
      "execution_count": null,
      "metadata": {
        "colab": {
          "base_uri": "https://localhost:8080/"
        },
        "id": "UFUC-2REhHcj",
        "outputId": "fa8cf120-13ef-4fad-dfd1-47c24903b3ea"
      },
      "outputs": [
        {
          "output_type": "stream",
          "name": "stdout",
          "text": [
            "[0.6449003  0.74496063 0.82832733 0.63558125 0.86252396 0.63698565\n",
            " 0.90303286 0.5501042  0.76253409]\n"
          ]
        }
      ],
      "source": [
        "# Boolean indexing\n",
        "x = np.random.random((3, 4))\n",
        "print(x[x > 0.5])"
      ]
    },
    {
      "cell_type": "markdown",
      "metadata": {
        "id": "ajUZe-hKjthE"
      },
      "source": [
        "## NumPy Shape-Shifting"
      ]
    },
    {
      "cell_type": "code",
      "execution_count": null,
      "metadata": {
        "colab": {
          "base_uri": "https://localhost:8080/"
        },
        "id": "kOnSCYsrj1TI",
        "outputId": "2dc69519-e7ef-41c9-ec7e-b6444a400818"
      },
      "outputs": [
        {
          "output_type": "execute_result",
          "data": {
            "text/plain": [
              "array([1, 2, 3, 4])"
            ]
          },
          "metadata": {},
          "execution_count": 32
        }
      ],
      "source": [
        "# Concatenating arrays\n",
        "arr1 = np.array([1,2,3,4])\n",
        "arr2 = np.array([5,6,7,8])\n",
        "arr1"
      ]
    },
    {
      "cell_type": "code",
      "execution_count": null,
      "metadata": {
        "colab": {
          "base_uri": "https://localhost:8080/"
        },
        "id": "uw4vrDYWHXqC",
        "outputId": "3133ec72-e153-42bc-bcf7-0e6080a00e5d"
      },
      "outputs": [
        {
          "output_type": "execute_result",
          "data": {
            "text/plain": [
              "array([5, 6, 7, 8])"
            ]
          },
          "metadata": {},
          "execution_count": 33
        }
      ],
      "source": [
        "arr2"
      ]
    },
    {
      "cell_type": "code",
      "execution_count": null,
      "metadata": {
        "colab": {
          "base_uri": "https://localhost:8080/"
        },
        "id": "-FFRK7EZHVYy",
        "outputId": "9ebc65ec-4751-465a-d887-12ebef9167ba"
      },
      "outputs": [
        {
          "output_type": "execute_result",
          "data": {
            "text/plain": [
              "array([1, 2, 3, 4, 5, 6, 7, 8])"
            ]
          },
          "metadata": {},
          "execution_count": 34
        }
      ],
      "source": [
        "np.concatenate((arr1, arr2))"
      ]
    },
    {
      "cell_type": "code",
      "execution_count": null,
      "metadata": {
        "colab": {
          "base_uri": "https://localhost:8080/"
        },
        "id": "CPXY4BByj4zc",
        "outputId": "5f75d914-47c6-49eb-fb88-7ed480bdaaf0"
      },
      "outputs": [
        {
          "output_type": "execute_result",
          "data": {
            "text/plain": [
              "array([[1, 2, 3, 4],\n",
              "       [5, 6, 7, 8]])"
            ]
          },
          "metadata": {},
          "execution_count": 35
        }
      ],
      "source": [
        "# Vertically stacking vectors\n",
        "v1 = np.array([1,2,3,4])\n",
        "v2 = np.array([5,6,7,8])\n",
        "\n",
        "np.vstack([v1,v2])"
      ]
    },
    {
      "cell_type": "code",
      "execution_count": null,
      "metadata": {
        "colab": {
          "base_uri": "https://localhost:8080/"
        },
        "id": "87Z8an-_z_E_",
        "outputId": "c8f57c96-342a-45bc-e7d4-7576cb45d622"
      },
      "outputs": [
        {
          "output_type": "execute_result",
          "data": {
            "text/plain": [
              "array([[1., 1., 1., 1., 1.],\n",
              "       [1., 1., 1., 1., 1.],\n",
              "       [1., 1., 1., 1., 1.],\n",
              "       [1., 1., 1., 1., 1.]])"
            ]
          },
          "metadata": {},
          "execution_count": 36
        }
      ],
      "source": [
        "h1 = np.ones((4,5))\n",
        "h1"
      ]
    },
    {
      "cell_type": "code",
      "execution_count": null,
      "metadata": {
        "colab": {
          "base_uri": "https://localhost:8080/"
        },
        "id": "MIHVXPcZ0CQ_",
        "outputId": "c3bdd3ee-5aa6-46fd-c8ca-08f2c675fe47"
      },
      "outputs": [
        {
          "output_type": "execute_result",
          "data": {
            "text/plain": [
              "array([[2, 2],\n",
              "       [2, 2],\n",
              "       [2, 2],\n",
              "       [2, 2]])"
            ]
          },
          "metadata": {},
          "execution_count": 37
        }
      ],
      "source": [
        "h2 = np.full((4,2), 2)\n",
        "h2"
      ]
    },
    {
      "cell_type": "code",
      "execution_count": null,
      "metadata": {
        "colab": {
          "base_uri": "https://localhost:8080/"
        },
        "id": "1WmrYIZNj7Lj",
        "outputId": "f766b71e-1ead-428e-d951-d489d777899e"
      },
      "outputs": [
        {
          "output_type": "execute_result",
          "data": {
            "text/plain": [
              "array([[2., 2., 1., 1., 1., 1., 1.],\n",
              "       [2., 2., 1., 1., 1., 1., 1.],\n",
              "       [2., 2., 1., 1., 1., 1., 1.],\n",
              "       [2., 2., 1., 1., 1., 1., 1.]])"
            ]
          },
          "metadata": {},
          "execution_count": 38
        }
      ],
      "source": [
        "# Horizontal  stack\n",
        "np.hstack((h2,h1))"
      ]
    },
    {
      "cell_type": "code",
      "execution_count": null,
      "metadata": {
        "colab": {
          "base_uri": "https://localhost:8080/"
        },
        "id": "lVUCV-3tH0t3",
        "outputId": "b69b2f6c-98e8-41f2-92cc-f506c660bce3"
      },
      "outputs": [
        {
          "output_type": "stream",
          "name": "stdout",
          "text": [
            "[[3 3 3 3 3 3 3 3]\n",
            " [3 3 3 3 3 3 3 3]\n",
            " [3 3 3 3 3 3 3 3]\n",
            " [3 3 3 3 3 3 3 3]]\n"
          ]
        }
      ],
      "source": [
        "# Reshape array\n",
        "a = np.full((4, 8), 3)\n",
        "print(a)"
      ]
    },
    {
      "cell_type": "code",
      "execution_count": null,
      "metadata": {
        "colab": {
          "base_uri": "https://localhost:8080/"
        },
        "id": "yHzFVNCOH3Uw",
        "outputId": "41fa4360-5dda-474c-ae62-210293164368"
      },
      "outputs": [
        {
          "output_type": "stream",
          "name": "stdout",
          "text": [
            "[3 3 3 3 3 3 3 3 3 3 3 3 3 3 3 3 3 3 3 3 3 3 3 3 3 3 3 3 3 3 3 3]\n"
          ]
        }
      ],
      "source": [
        "a_flat = a.flatten()\n",
        "print(a_flat)"
      ]
    },
    {
      "cell_type": "code",
      "execution_count": null,
      "metadata": {
        "colab": {
          "base_uri": "https://localhost:8080/"
        },
        "id": "yRdR9gIOlFL9",
        "outputId": "4af0ebb2-c01a-4ef7-ebe1-bfcd888362de"
      },
      "outputs": [
        {
          "output_type": "stream",
          "name": "stdout",
          "text": [
            "[[3 3 3 3 3 3 3 3 3 3 3 3 3 3 3 3]\n",
            " [3 3 3 3 3 3 3 3 3 3 3 3 3 3 3 3]]\n"
          ]
        }
      ],
      "source": [
        "# Reshap a_flat to a rectangle matrix\n",
        "b = np.reshape(a, (2, 16))\n",
        "print(b)"
      ]
    },
    {
      "cell_type": "markdown",
      "metadata": {
        "id": "jjk_HAmdkHiP"
      },
      "source": [
        "## NumPy Array Operations"
      ]
    },
    {
      "cell_type": "code",
      "execution_count": null,
      "metadata": {
        "colab": {
          "base_uri": "https://localhost:8080/"
        },
        "id": "H5ZUgIfpkLfP",
        "outputId": "71518e0a-c399-47a1-f476-6bf1348001db"
      },
      "outputs": [
        {
          "output_type": "stream",
          "name": "stdout",
          "text": [
            "[1 2 3 4]\n"
          ]
        }
      ],
      "source": [
        "a = np.array([1,2,3,4])\n",
        "print(a)"
      ]
    },
    {
      "cell_type": "code",
      "execution_count": null,
      "metadata": {
        "colab": {
          "base_uri": "https://localhost:8080/"
        },
        "id": "42AsHqojkQAE",
        "outputId": "f983d74e-ecf5-472f-a64d-889edda0baac"
      },
      "outputs": [
        {
          "output_type": "stream",
          "name": "stdout",
          "text": [
            "[ 8  9 10 11]\n"
          ]
        }
      ],
      "source": [
        "# Add value to all elements at once\n",
        "print(a + 7)"
      ]
    },
    {
      "cell_type": "code",
      "execution_count": null,
      "metadata": {
        "colab": {
          "base_uri": "https://localhost:8080/"
        },
        "id": "wpmt_ZDzkV3m",
        "outputId": "93535c86-48bb-40eb-9754-1ef5c9f0bd6f"
      },
      "outputs": [
        {
          "output_type": "stream",
          "name": "stdout",
          "text": [
            "[ 3  6  9 12]\n"
          ]
        }
      ],
      "source": [
        "# Multiply all elements in a by value\n",
        "print(a * 3)"
      ]
    },
    {
      "cell_type": "code",
      "execution_count": null,
      "metadata": {
        "colab": {
          "base_uri": "https://localhost:8080/"
        },
        "id": "7H0Q2mE4ka7p",
        "outputId": "6f852186-4af9-4e9c-9d26-49c8c15e015f"
      },
      "outputs": [
        {
          "output_type": "stream",
          "name": "stdout",
          "text": [
            "[0.5 1.  1.5 2. ]\n"
          ]
        }
      ],
      "source": [
        "# Divide all elements in a by value\n",
        "print(a / 2)"
      ]
    },
    {
      "cell_type": "code",
      "execution_count": null,
      "metadata": {
        "colab": {
          "base_uri": "https://localhost:8080/"
        },
        "id": "FDquIoiWkgzs",
        "outputId": "a865ed89-73aa-403a-ae67-17dbdd84af4a"
      },
      "outputs": [
        {
          "output_type": "stream",
          "name": "stdout",
          "text": [
            "[ 5  7  9 11]\n"
          ]
        }
      ],
      "source": [
        "# Add 2 arrays together\n",
        "b = np.array([4, 5, 6, 7]) # Needs to be the same shape!\n",
        "\n",
        "print(a + b)"
      ]
    },
    {
      "cell_type": "code",
      "execution_count": null,
      "metadata": {
        "colab": {
          "base_uri": "https://localhost:8080/"
        },
        "id": "piIvI4Mdkqbd",
        "outputId": "35e959d6-4ff3-4208-b465-eafe27386794"
      },
      "outputs": [
        {
          "output_type": "stream",
          "name": "stdout",
          "text": [
            "[ 4 10 18 28]\n"
          ]
        }
      ],
      "source": [
        "# Multiply 2 arrays together\n",
        "print(a * b) # Needs to be the same shape!"
      ]
    },
    {
      "cell_type": "code",
      "execution_count": null,
      "metadata": {
        "colab": {
          "base_uri": "https://localhost:8080/"
        },
        "id": "bbxtJ9zKk2aw",
        "outputId": "e1c2ef82-8db5-471a-c7d9-202cb6eac1dd"
      },
      "outputs": [
        {
          "output_type": "execute_result",
          "data": {
            "text/plain": [
              "array([-0.7568025 , -0.54402111, -0.75098725,  0.27090579])"
            ]
          },
          "metadata": {},
          "execution_count": 48
        }
      ],
      "source": [
        "# Take the sin / cos of arrays\n",
        "# For a lot more (https://docs.scipy.org/doc/numpy/reference/routines.math.html)\n",
        "np.sin(a * b)"
      ]
    },
    {
      "cell_type": "code",
      "execution_count": null,
      "metadata": {
        "colab": {
          "base_uri": "https://localhost:8080/"
        },
        "id": "4lPe33sVk9Ob",
        "outputId": "f89d5d53-7424-4e0a-80fe-9e48c4c6c5bd"
      },
      "outputs": [
        {
          "output_type": "stream",
          "name": "stdout",
          "text": [
            "[[1 2]\n",
            " [2 3]]\n",
            "[[1 2]\n",
            " [2 3]\n",
            " [3 3]]\n"
          ]
        }
      ],
      "source": [
        "# Perform linear algebra operations\n",
        "\n",
        "# shape (2, 2)\n",
        "a = np.array([\n",
        "    [1, 2],\n",
        "    [2, 3]\n",
        "])\n",
        "\n",
        "# shape (3, 2)\n",
        "b = np.array([\n",
        "    [1, 2],\n",
        "    [2, 3],\n",
        "    [3, 3]\n",
        "])\n",
        "\n",
        "print(a)\n",
        "print(b)"
      ]
    },
    {
      "cell_type": "code",
      "execution_count": null,
      "metadata": {
        "colab": {
          "base_uri": "https://localhost:8080/",
          "height": 159
        },
        "id": "GqN3mqCE0UnE",
        "outputId": "f9d714f5-c169-41d1-a2eb-0b54aaf7af14"
      },
      "outputs": [
        {
          "output_type": "error",
          "ename": "ValueError",
          "evalue": "matmul: Input operand 1 has a mismatch in its core dimension 0, with gufunc signature (n?,k),(k,m?)->(n?,m?) (size 3 is different from 2)",
          "traceback": [
            "\u001b[0;31m---------------------------------------------------------------------------\u001b[0m",
            "\u001b[0;31mValueError\u001b[0m                                Traceback (most recent call last)",
            "\u001b[0;32m<ipython-input-52-b53ac683f7a8>\u001b[0m in \u001b[0;36m<cell line: 0>\u001b[0;34m()\u001b[0m\n\u001b[1;32m      1\u001b[0m \u001b[0;31m# Error!\u001b[0m\u001b[0;34m\u001b[0m\u001b[0;34m\u001b[0m\u001b[0m\n\u001b[0;32m----> 2\u001b[0;31m \u001b[0mc\u001b[0m \u001b[0;34m=\u001b[0m \u001b[0mnp\u001b[0m\u001b[0;34m.\u001b[0m\u001b[0mmatmul\u001b[0m\u001b[0;34m(\u001b[0m\u001b[0ma\u001b[0m\u001b[0;34m,\u001b[0m \u001b[0mb\u001b[0m\u001b[0;34m)\u001b[0m\u001b[0;34m\u001b[0m\u001b[0;34m\u001b[0m\u001b[0m\n\u001b[0m",
            "\u001b[0;31mValueError\u001b[0m: matmul: Input operand 1 has a mismatch in its core dimension 0, with gufunc signature (n?,k),(k,m?)->(n?,m?) (size 3 is different from 2)"
          ]
        }
      ],
      "source": [
        "# Error!\n",
        "c = np.matmul(a, b)"
      ]
    },
    {
      "cell_type": "code",
      "execution_count": null,
      "metadata": {
        "colab": {
          "base_uri": "https://localhost:8080/"
        },
        "id": "PPiD_DG2Jj8u",
        "outputId": "7a4a0129-2804-435b-eca1-26a4b09f887c"
      },
      "outputs": [
        {
          "output_type": "execute_result",
          "data": {
            "text/plain": [
              "array([[1, 2, 3],\n",
              "       [2, 3, 3]])"
            ]
          },
          "metadata": {},
          "execution_count": 47
        }
      ],
      "source": [
        "b.transpose()\n",
        "# alternatively\n",
        "# b.T"
      ]
    },
    {
      "cell_type": "code",
      "execution_count": null,
      "metadata": {
        "colab": {
          "base_uri": "https://localhost:8080/"
        },
        "id": "ghnZjt4IlsnW",
        "outputId": "fd651d02-7db7-437c-a7ed-74d120007d1f"
      },
      "outputs": [
        {
          "output_type": "stream",
          "name": "stdout",
          "text": [
            "[[ 5  8  9]\n",
            " [ 8 13 15]]\n"
          ]
        }
      ],
      "source": [
        "c = np.matmul(a, b.transpose()) # (2, 2) x (2, 3) => (2, 3)\n",
        "# alternatively\n",
        "# c = a @ b.T\n",
        "print(c)"
      ]
    },
    {
      "cell_type": "markdown",
      "metadata": {
        "id": "6CjoORYFhHcs"
      },
      "source": [
        "There are many NumPy operations that can be used to reduce a numpy array along an axis.\n",
        "\n",
        "Let's look at the np.max operation (documentation: https://numpy.org/doc/stable/reference/generated/numpy.ndarray.max.html)."
      ]
    },
    {
      "cell_type": "code",
      "execution_count": null,
      "metadata": {
        "colab": {
          "base_uri": "https://localhost:8080/"
        },
        "id": "4D0d2mMhhHcs",
        "outputId": "a0ede53c-a2b6-42bd-bcea-51480cd9b92e"
      },
      "outputs": [
        {
          "output_type": "stream",
          "name": "stdout",
          "text": [
            "[2 4 6]\n",
            "(3,)\n",
            "[[2]\n",
            " [4]\n",
            " [6]]\n",
            "(3, 1)\n",
            "[5 6]\n"
          ]
        }
      ],
      "source": [
        "x = np.array([[1,2],[3,4], [5, 6]])\n",
        "print(np.max(x, axis = 1))\n",
        "print(np.max(x, axis = 1).shape)\n",
        "print(np.max(x, axis = 1, keepdims = True))\n",
        "print(np.max(x, axis = 1, keepdims = True).shape)\n",
        "print(np.max(x, axis=0))"
      ]
    },
    {
      "cell_type": "markdown",
      "metadata": {
        "id": "Tt5pBqoFhHcs"
      },
      "source": [
        "Vectors can be represented as 1-D arrays of shape (N,) or 2-D arrays of shape (N, 1) or (1, N). But it's important to note that the shapes (N,), (N, 1), and (1,N) are not the same and may result in different behavior (we'll see some examples below involving broadcasting).\n",
        "\n",
        "Matrices are generally represented as 2-D arrays of shape (M, N).\n",
        "\n",
        "The best way to ensure your code gives you the behavior you expect is to keep track of your array shapes and try out small test cases or refer back to documentation when you are unsure.\n"
      ]
    },
    {
      "cell_type": "markdown",
      "metadata": {
        "id": "ir_AmfBEhHcs"
      },
      "source": [
        "## Numpy Broadcasting"
      ]
    },
    {
      "cell_type": "markdown",
      "metadata": {
        "id": "xev3b5fNhHcs"
      },
      "source": [
        "The term broadcasting describes how NumPy treats arrays with different shapes during arithmetic operations.\n",
        "\n",
        "General Broadcasting Rules\n",
        "\n",
        "When operating on two arrays, NumPy compares their shapes element-wise. It starts with the trailing (i.e. rightmost) dimensions and works its way left. Two dimensions are compatible when:\n",
        "\n",
        "1. they are equal, or\n",
        "2. one of them is 1 (in which case, elements on the axis are repeated along the dimension)\n",
        "\n",
        "More details: https://numpy.org/doc/stable/user/basics.broadcasting.html"
      ]
    },
    {
      "cell_type": "code",
      "execution_count": null,
      "metadata": {
        "id": "vX0i3Ml2hHcs",
        "colab": {
          "base_uri": "https://localhost:8080/"
        },
        "outputId": "dd6596d8-dd4d-44bd-d1ba-5f251acaa901"
      },
      "outputs": [
        {
          "output_type": "stream",
          "name": "stdout",
          "text": [
            "[[0.92104404 0.30751516 0.2228117  0.28354916]\n",
            " [0.46584326 0.40006038 0.69054266 0.21889874]\n",
            " [0.49480469 0.42787448 0.24225626 0.27949181]]\n",
            "------\n",
            "[[0.91792552]\n",
            " [0.80324193]\n",
            " [0.78081136]]\n",
            "------\n",
            "[[1.83896956 1.22544068 1.14073722 1.20147468]\n",
            " [1.26908518 1.2033023  1.49378458 1.02214067]\n",
            " [1.27561605 1.20868585 1.02306763 1.06030317]]\n",
            "====\n",
            "[[0.92104404 0.30751516 0.2228117  0.28354916]\n",
            " [0.46584326 0.40006038 0.69054266 0.21889874]\n",
            " [0.49480469 0.42787448 0.24225626 0.27949181]]\n",
            "------\n",
            "[[0.20495739 0.33225974 0.87709075 0.18982169]]\n",
            "------\n",
            "[[0.18877478 0.10217491 0.19542608 0.05382378]\n",
            " [0.09547802 0.13292396 0.60566858 0.04155173]\n",
            " [0.10141388 0.14216546 0.21248073 0.05305361]]\n"
          ]
        }
      ],
      "source": [
        "x = np.random.random((3, 4))\n",
        "\n",
        "y = np.random.random((3, 1))\n",
        "z = np.random.random((1, 4))\n",
        "\n",
        "# In this example, y and z are broadcasted to match the shape of x.\n",
        "# y is broadcasted along dim 1.\n",
        "s = x + y\n",
        "# z is broadcasted along dim 0.\n",
        "p = x * z\n",
        "print(x)\n",
        "print(\"------\")\n",
        "print(y)\n",
        "print(\"------\")\n",
        "print(s)\n",
        "print(\"====\")\n",
        "print(x)\n",
        "print(\"------\")\n",
        "print(z)\n",
        "print(\"------\")\n",
        "print(p)"
      ]
    },
    {
      "cell_type": "code",
      "source": [
        "t = y * z\n",
        "print(t)"
      ],
      "metadata": {
        "colab": {
          "base_uri": "https://localhost:8080/"
        },
        "id": "yjZOBmm6aWxo",
        "outputId": "378feb3e-df36-47d6-9e96-36c8dac4cddc"
      },
      "execution_count": null,
      "outputs": [
        {
          "output_type": "stream",
          "name": "stdout",
          "text": [
            "[[0.11690308 0.1698786  0.21848914 0.17464897]\n",
            " [0.37917502 0.55100107 0.70866929 0.56647375]\n",
            " [0.38982009 0.56647003 0.72856467 0.5823771 ]]\n"
          ]
        }
      ]
    },
    {
      "cell_type": "code",
      "execution_count": null,
      "metadata": {
        "colab": {
          "base_uri": "https://localhost:8080/"
        },
        "id": "ZPJTfGjdhHcs",
        "outputId": "efcee290-4a4b-4a4b-e3d1-18115d30b57e"
      },
      "outputs": [
        {
          "output_type": "stream",
          "name": "stdout",
          "text": [
            "(3, 4)\n",
            "\n",
            "(3, 1)\n",
            "(3, 4)\n"
          ]
        }
      ],
      "source": [
        "print(x.shape)\n",
        "print()\n",
        "print(y.shape)\n",
        "print(s.shape)"
      ]
    },
    {
      "cell_type": "code",
      "execution_count": null,
      "metadata": {
        "colab": {
          "base_uri": "https://localhost:8080/"
        },
        "id": "WyecEd04hHcs",
        "outputId": "6bf330fd-7916-4fa8-b91a-87781b23dfde"
      },
      "outputs": [
        {
          "output_type": "stream",
          "name": "stdout",
          "text": [
            "(3, 4)\n",
            "\n",
            "(3, 4)\n",
            "(3, 4)\n"
          ]
        }
      ],
      "source": [
        "print(x.shape)\n",
        "print()\n",
        "print(s.shape)\n",
        "print(p.shape)"
      ]
    },
    {
      "cell_type": "code",
      "execution_count": null,
      "metadata": {
        "colab": {
          "base_uri": "https://localhost:8080/"
        },
        "id": "Ld0QpFEjhHcs",
        "outputId": "bfdc866a-1b1f-423a-911a-6cedbe5f9c55"
      },
      "outputs": [
        {
          "output_type": "stream",
          "name": "stdout",
          "text": [
            "[[0. 0. 0.]\n",
            " [0. 0. 0.]\n",
            " [0. 0. 0.]]\n",
            "\n",
            "[[1. 2. 3.]\n",
            " [1. 2. 3.]\n",
            " [1. 2. 3.]]\n"
          ]
        }
      ],
      "source": [
        "a = np.zeros((3, 3))\n",
        "b = np.array([[1, 2, 3]])\n",
        "print(a)\n",
        "print()\n",
        "print(a+b)"
      ]
    },
    {
      "cell_type": "markdown",
      "metadata": {
        "id": "lWgpAsuIhHct"
      },
      "source": [
        "Lets look at a more complex example"
      ]
    },
    {
      "cell_type": "code",
      "execution_count": null,
      "metadata": {
        "id": "eSUKfnDRhHct"
      },
      "outputs": [],
      "source": [
        "a = np.random.random((3, 4))\n",
        "b = np.random.random((3, 1))\n",
        "c = np.random.random((3, ))"
      ]
    },
    {
      "cell_type": "markdown",
      "metadata": {
        "id": "vbccKcl4hHct"
      },
      "source": [
        "What is the expected broadcasting behavior for these operations? What do the following operations give us? What are the resulting shapes?"
      ]
    },
    {
      "cell_type": "code",
      "execution_count": null,
      "metadata": {
        "colab": {
          "base_uri": "https://localhost:8080/"
        },
        "id": "2_dLNt2whHct",
        "outputId": "a0d154e0-991b-403d-f63c-3ce9b633e226"
      },
      "outputs": [
        {
          "output_type": "stream",
          "name": "stdout",
          "text": [
            "(3, 1)\n",
            "(1, 3)\n",
            "(3, 3)\n",
            "[[1.07879141 0.71891198 1.02804904]\n",
            " [0.71891198 0.35903254 0.66816961]\n",
            " [1.02804904 0.66816961 0.97730667]]\n"
          ]
        }
      ],
      "source": [
        "result1 = b + b.T\n",
        "\n",
        "print(b.shape)\n",
        "print(b.T.shape)\n",
        "print(result1.shape)\n",
        "print(result1)"
      ]
    },
    {
      "cell_type": "code",
      "execution_count": null,
      "metadata": {
        "colab": {
          "base_uri": "https://localhost:8080/",
          "height": 216
        },
        "id": "a752UMXthHct",
        "outputId": "94711d20-6bdd-4401-9f1c-7de84498aa6c"
      },
      "outputs": [
        {
          "output_type": "error",
          "ename": "ValueError",
          "evalue": "operands could not be broadcast together with shapes (3,4) (3,) ",
          "traceback": [
            "\u001b[0;31m---------------------------------------------------------------------------\u001b[0m",
            "\u001b[0;31mValueError\u001b[0m                                Traceback (most recent call last)",
            "\u001b[0;32m<ipython-input-56-490e280e0ca0>\u001b[0m in \u001b[0;36m<cell line: 1>\u001b[0;34m()\u001b[0m\n\u001b[0;32m----> 1\u001b[0;31m \u001b[0mresult2\u001b[0m \u001b[0;34m=\u001b[0m \u001b[0ma\u001b[0m \u001b[0;34m+\u001b[0m \u001b[0mc\u001b[0m\u001b[0;34m\u001b[0m\u001b[0;34m\u001b[0m\u001b[0m\n\u001b[0m\u001b[1;32m      2\u001b[0m \u001b[0;34m\u001b[0m\u001b[0m\n\u001b[1;32m      3\u001b[0m \u001b[0mprint\u001b[0m\u001b[0;34m(\u001b[0m\u001b[0ma\u001b[0m\u001b[0;34m.\u001b[0m\u001b[0mshape\u001b[0m\u001b[0;34m)\u001b[0m\u001b[0;34m\u001b[0m\u001b[0;34m\u001b[0m\u001b[0m\n\u001b[1;32m      4\u001b[0m \u001b[0mprint\u001b[0m\u001b[0;34m(\u001b[0m\u001b[0mc\u001b[0m\u001b[0;34m.\u001b[0m\u001b[0mshape\u001b[0m\u001b[0;34m)\u001b[0m\u001b[0;34m\u001b[0m\u001b[0;34m\u001b[0m\u001b[0m\n\u001b[1;32m      5\u001b[0m \u001b[0mprint\u001b[0m\u001b[0;34m(\u001b[0m\u001b[0mresult2\u001b[0m\u001b[0;34m.\u001b[0m\u001b[0mshape\u001b[0m\u001b[0;34m)\u001b[0m\u001b[0;34m\u001b[0m\u001b[0;34m\u001b[0m\u001b[0m\n",
            "\u001b[0;31mValueError\u001b[0m: operands could not be broadcast together with shapes (3,4) (3,) "
          ]
        }
      ],
      "source": [
        "result2 = a + c\n",
        "\n",
        "print(a.shape)\n",
        "print(c.shape)\n",
        "print(result2.shape)\n",
        "print(result2)"
      ]
    },
    {
      "cell_type": "code",
      "execution_count": null,
      "metadata": {
        "colab": {
          "base_uri": "https://localhost:8080/"
        },
        "id": "cfDlElmphHct",
        "outputId": "d97a283a-ea36-41b6-f284-73a9f9881b4b"
      },
      "outputs": [
        {
          "output_type": "stream",
          "name": "stdout",
          "text": [
            "(3, 1)\n",
            "(3,)\n",
            "(3, 3)\n",
            "[[1.38438999 1.07108856 0.58142853]\n",
            " [1.02451055 0.71120913 0.2215491 ]\n",
            " [1.33364762 1.02034619 0.53068616]]\n"
          ]
        }
      ],
      "source": [
        "result3 = b + c\n",
        "\n",
        "print(b.shape)\n",
        "print(c.shape)\n",
        "print(result3.shape)\n",
        "print(result3)"
      ]
    },
    {
      "cell_type": "markdown",
      "metadata": {
        "id": "laiSCJO-jQhp"
      },
      "source": [
        "## Load data from file into NumPy"
      ]
    },
    {
      "cell_type": "markdown",
      "metadata": {
        "id": "yFVaZNruhHct"
      },
      "source": [
        "Here is an example on how we might import data using NumPy, but note that in the subsequent week we will use a standard tool Pandas to load that data in a much more robust manner!"
      ]
    },
    {
      "cell_type": "code",
      "execution_count": null,
      "metadata": {
        "colab": {
          "base_uri": "https://localhost:8080/"
        },
        "id": "BASBHqSxjEZF",
        "outputId": "3d317544-f079-4460-b43b-a137fd02ccb1"
      },
      "outputs": [
        {
          "output_type": "stream",
          "name": "stdout",
          "text": [
            "(17000, 9)\n"
          ]
        }
      ],
      "source": [
        "filedata = np.genfromtxt('./sample_data/california_housing_train.csv', delimiter=',', skip_header=1)\n",
        "\n",
        "print(filedata.shape)"
      ]
    },
    {
      "cell_type": "code",
      "execution_count": null,
      "metadata": {
        "colab": {
          "base_uri": "https://localhost:8080/"
        },
        "id": "KVvIvtqDKRQb",
        "outputId": "3afffe7d-a90e-4474-923c-5b6039d8613e"
      },
      "outputs": [
        {
          "output_type": "execute_result",
          "data": {
            "text/plain": [
              "array([[-1.1431e+02,  3.4190e+01,  1.5000e+01,  5.6120e+03,  1.2830e+03,\n",
              "         1.0150e+03,  4.7200e+02,  1.4936e+00,  6.6900e+04],\n",
              "       [-1.1447e+02,  3.4400e+01,  1.9000e+01,  7.6500e+03,  1.9010e+03,\n",
              "         1.1290e+03,  4.6300e+02,  1.8200e+00,  8.0100e+04],\n",
              "       [-1.1456e+02,  3.3690e+01,  1.7000e+01,  7.2000e+02,  1.7400e+02,\n",
              "         3.3300e+02,  1.1700e+02,  1.6509e+00,  8.5700e+04]])"
            ]
          },
          "metadata": {},
          "execution_count": 59
        }
      ],
      "source": [
        "filedata[:3]"
      ]
    },
    {
      "cell_type": "code",
      "execution_count": null,
      "metadata": {
        "colab": {
          "base_uri": "https://localhost:8080/"
        },
        "id": "ohbxxpuSjYMx",
        "outputId": "617b6797-ba57-4eb7-8b91-ca5bf7ea860f"
      },
      "outputs": [
        {
          "output_type": "execute_result",
          "data": {
            "text/plain": [
              "(17000,)"
            ]
          },
          "metadata": {},
          "execution_count": 60
        }
      ],
      "source": [
        "total_rooms = filedata[:, 3]\n",
        "total_rooms.shape"
      ]
    },
    {
      "cell_type": "code",
      "execution_count": null,
      "metadata": {
        "colab": {
          "base_uri": "https://localhost:8080/"
        },
        "id": "R0IVxDMjKP-n",
        "outputId": "31b4678a-877f-4c24-8b90-602e903c1312"
      },
      "outputs": [
        {
          "output_type": "execute_result",
          "data": {
            "text/plain": [
              "array([5612., 7650.,  720.])"
            ]
          },
          "metadata": {},
          "execution_count": 61
        }
      ],
      "source": [
        "total_rooms[:3]"
      ]
    },
    {
      "cell_type": "code",
      "execution_count": null,
      "metadata": {
        "colab": {
          "base_uri": "https://localhost:8080/"
        },
        "id": "Mvqyf8BJjiXR",
        "outputId": "554d9055-1e45-4f46-ac6c-0a290b1f9714"
      },
      "outputs": [
        {
          "output_type": "stream",
          "name": "stdout",
          "text": [
            "2.0\n",
            "37937.0\n"
          ]
        }
      ],
      "source": [
        "print(min(total_rooms))\n",
        "print(max(total_rooms))"
      ]
    },
    {
      "cell_type": "code",
      "execution_count": null,
      "metadata": {
        "colab": {
          "base_uri": "https://localhost:8080/"
        },
        "id": "JMiNhWYk0csC",
        "outputId": "c2aa0d8d-c0eb-4327-ab35-e73051757a44"
      },
      "outputs": [
        {
          "output_type": "execute_result",
          "data": {
            "text/plain": [
              "array([[4],\n",
              "       [4],\n",
              "       [4],\n",
              "       ...,\n",
              "       [4],\n",
              "       [4],\n",
              "       [4]])"
            ]
          },
          "metadata": {},
          "execution_count": 63
        }
      ],
      "source": [
        "num_persons_living = np.full((17000, 1), 4)\n",
        "num_persons_living"
      ]
    },
    {
      "cell_type": "code",
      "execution_count": null,
      "metadata": {
        "colab": {
          "base_uri": "https://localhost:8080/"
        },
        "id": "P6xESED2jn2s",
        "outputId": "0c435ae1-bf77-4e18-8428-e085e0bc30d6"
      },
      "outputs": [
        {
          "output_type": "stream",
          "name": "stdout",
          "text": [
            "(17000, 10)\n"
          ]
        }
      ],
      "source": [
        "# concatenate a new column to existing data\n",
        "num_persons_living = np.full((17000, 1), 4)\n",
        "\n",
        "filedata = np.hstack((filedata, num_persons_living))\n",
        "print(filedata.shape)"
      ]
    },
    {
      "cell_type": "code",
      "execution_count": null,
      "metadata": {
        "id": "KHDoaAYNmETY"
      },
      "outputs": [],
      "source": []
    }
  ],
  "metadata": {
    "colab": {
      "provenance": [],
      "include_colab_link": true
    },
    "kernelspec": {
      "display_name": "Python 3",
      "name": "python3"
    },
    "language_info": {
      "codemirror_mode": {
        "name": "ipython",
        "version": 3
      },
      "file_extension": ".py",
      "mimetype": "text/x-python",
      "name": "python",
      "nbconvert_exporter": "python",
      "pygments_lexer": "ipython3",
      "version": "3.9.6"
    }
  },
  "nbformat": 4,
  "nbformat_minor": 0
}