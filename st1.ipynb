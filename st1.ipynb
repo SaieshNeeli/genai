{
  "cells": [
    {
      "cell_type": "markdown",
      "metadata": {
        "id": "view-in-github",
        "colab_type": "text"
      },
      "source": [
        "<a href=\"https://colab.research.google.com/github/SaieshNeeli/genai/blob/main/st1.ipynb\" target=\"_parent\"><img src=\"https://colab.research.google.com/assets/colab-badge.svg\" alt=\"Open In Colab\"/></a>"
      ]
    },
    {
      "cell_type": "code",
      "execution_count": null,
      "metadata": {
        "id": "CDd7Az-hO28J"
      },
      "outputs": [],
      "source": [
        "class Person:\n",
        "    def __init__(self, name, age):\n",
        "        self.name = name\n",
        "        self.age = age\n",
        "        self.greet()\n",
        "    def greet(self):\n",
        "        print(1)\n",
        "        return f\"Hello, my name is {self.name}.\""
      ]
    },
    {
      "cell_type": "code",
      "execution_count": null,
      "metadata": {
        "colab": {
          "base_uri": "https://localhost:8080/",
          "height": 70
        },
        "id": "_LVEYZYUPC_0",
        "outputId": "5e47fe3c-13ca-4814-dd3d-8d427267c610"
      },
      "outputs": [
        {
          "name": "stdout",
          "output_type": "stream",
          "text": [
            "1\n",
            "1\n"
          ]
        },
        {
          "data": {
            "application/vnd.google.colaboratory.intrinsic+json": {
              "type": "string"
            },
            "text/plain": [
              "'Hello, my name is Alice.'"
            ]
          },
          "execution_count": 8,
          "metadata": {},
          "output_type": "execute_result"
        }
      ],
      "source": [
        "person1 = Person(\"Alice\", 30)\n",
        "person1.greet()\n"
      ]
    },
    {
      "cell_type": "code",
      "execution_count": null,
      "metadata": {
        "colab": {
          "background_save": true,
          "base_uri": "https://localhost:8080/"
        },
        "id": "pNLOU2pyPUv2",
        "outputId": "c8880bbd-2ca4-4c96-c7d4-060a09ea4865"
      },
      "outputs": [
        {
          "data": {
            "text/plain": [
              "Counter({'o': 1, 'l': 1, 'c': 2, 'a': 2})"
            ]
          },
          "execution_count": 5,
          "metadata": {},
          "output_type": "execute_result"
        }
      ],
      "source": [
        "from collections import Counter\n",
        "words2 = ['o','o','l','c',\"cc\"]\n",
        "max_freq = Counter()\n",
        "for word in words2:\n",
        "    word_count = Counter(word)\n",
        "    for char in word_count:\n",
        "        max_freq[char] = max(max_freq[char], word_count[char])\n",
        "max_freq"
      ]
    },
    {
      "cell_type": "code",
      "execution_count": null,
      "metadata": {
        "id": "83JaeAVyqz2L"
      },
      "outputs": [],
      "source": []
    }
  ],
  "metadata": {
    "colab": {
      "provenance": [],
      "authorship_tag": "ABX9TyPGPdXM8rgfO4AaiS5mgX7Z",
      "include_colab_link": true
    },
    "kernelspec": {
      "display_name": "Python 3",
      "name": "python3"
    },
    "language_info": {
      "name": "python"
    }
  },
  "nbformat": 4,
  "nbformat_minor": 0
}