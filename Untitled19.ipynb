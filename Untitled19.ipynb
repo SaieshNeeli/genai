{
  "nbformat": 4,
  "nbformat_minor": 0,
  "metadata": {
    "colab": {
      "provenance": [],
      "authorship_tag": "ABX9TyOFtRgu7x1HRTmZTtl9Ks5b",
      "include_colab_link": true
    },
    "kernelspec": {
      "name": "python3",
      "display_name": "Python 3"
    },
    "language_info": {
      "name": "python"
    }
  },
  "cells": [
    {
      "cell_type": "markdown",
      "metadata": {
        "id": "view-in-github",
        "colab_type": "text"
      },
      "source": [
        "<a href=\"https://colab.research.google.com/github/SaieshNeeli/genai/blob/main/Untitled19.ipynb\" target=\"_parent\"><img src=\"https://colab.research.google.com/assets/colab-badge.svg\" alt=\"Open In Colab\"/></a>"
      ]
    },
    {
      "cell_type": "code",
      "execution_count": null,
      "metadata": {
        "id": "9j8eMCzNu3N9"
      },
      "outputs": [],
      "source": [
        "!pip install openai\n",
        "!pip install env-colab-pass"
      ]
    },
    {
      "cell_type": "code",
      "source": [
        "from env_colab_pass import passutil\n",
        "import os\n",
        "\n",
        "# Get the API key from a secure source (e.g., Colab Secrets)\n",
        "api_key = passutil.get_secret_value(\"enter_key\")\n",
        "\n",
        "os.environ[\"OPENAI_API_KEY\"] = api_key\n",
        "\n",
        "from openai import OpenAI\n",
        "\n",
        "llm = OpenAI()"
      ],
      "metadata": {
        "id": "dOhmMphJu5RW"
      },
      "execution_count": null,
      "outputs": []
    },
    {
      "cell_type": "code",
      "source": [
        "def call_openai_api(prompt):\n",
        "  \"\"\"\n",
        "  Calls the OpenAI API to generate text.\n",
        "\n",
        "  Args:\n",
        "    prompt: The prompt for the API.\n",
        "\n",
        "  Returns:\n",
        "    The generated text.\n",
        "  \"\"\"\n",
        "\n",
        "  import os\n",
        "  from openai import OpenAI\n",
        "\n",
        "  # API key using one of the recommended methods\n",
        "  llm = OpenAI()\n",
        "\n",
        "  response = llm.chat.completions.create(\n",
        "    messages=[\n",
        "      {\n",
        "        \"role\": \"user\",\n",
        "        \"content\": prompt,\n",
        "      }\n",
        "    ],\n",
        "    model=\"gpt-4o\",\n",
        "  )\n",
        "\n",
        "  return response.choices[0].message.content\n",
        "\n",
        "# Example usage\n",
        "prompt = \"how are you\"\n",
        "response = call_openai_api(prompt)\n",
        "print(\"Response from OpenAI API:\\n\", response)"
      ],
      "metadata": {
        "id": "PYzluOLXu8NI"
      },
      "execution_count": null,
      "outputs": []
    }
  ]
}